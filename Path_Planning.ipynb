{
 "cells": [
  {
   "cell_type": "code",
   "execution_count": null,
   "id": "1cffef52",
   "metadata": {},
   "outputs": [],
   "source": [
    "import numpy as np\n",
    "import sympy as S\n",
    "import matplotlib.pyplot as plt"
   ]
  },
  {
   "cell_type": "code",
   "execution_count": null,
   "id": "d7e51393",
   "metadata": {},
   "outputs": [],
   "source": [
    "x = S.Symbol('x',real=True)\n",
    "eps = S.Symbol('eps', real=True)\n",
    "\n",
    "ll = np.zeros(100)\n",
    "j = 0\n",
    "for i in np.arange(0,0.1,0.001):\n",
    "    eps2 = eps.subs(eps, i)**2\n",
    "    print(eps2)\n",
    "    ll[j] = S.integrate(S.sqrt(x**2+eps2)-S.Abs(x), (x,-1,1))\n",
    "    j += 1"
   ]
  },
  {
   "cell_type": "code",
   "execution_count": null,
   "id": "f40ff4f9",
   "metadata": {},
   "outputs": [],
   "source": [
    "plt.semilogx(np.arange(0,0.1,0.001), ll)\n",
    "plt.xlim([0,0.1])\n",
    "ax = plt.gca()\n",
    "#ax.set_aspect('equal', adjustable='box')"
   ]
  }
 ],
 "metadata": {
  "kernelspec": {
   "display_name": "Python 3 (ipykernel)",
   "language": "python",
   "name": "python3"
  },
  "language_info": {
   "codemirror_mode": {
    "name": "ipython",
    "version": 3
   },
   "file_extension": ".py",
   "mimetype": "text/x-python",
   "name": "python",
   "nbconvert_exporter": "python",
   "pygments_lexer": "ipython3",
   "version": "3.11.5"
  }
 },
 "nbformat": 4,
 "nbformat_minor": 5
}
